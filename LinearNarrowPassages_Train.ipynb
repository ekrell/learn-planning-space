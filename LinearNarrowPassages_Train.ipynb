{
 "cells": [
  {
   "cell_type": "markdown",
   "id": "83f4c8e1",
   "metadata": {},
   "source": [
    "# Learning Narrow Passages\n",
    "### With conditional autoencoder"
   ]
  },
  {
   "cell_type": "markdown",
   "id": "3de34941",
   "metadata": {},
   "source": [
    "## Setup"
   ]
  },
  {
   "cell_type": "code",
   "execution_count": 1,
   "id": "7f524d71",
   "metadata": {},
   "outputs": [
    {
     "name": "stdout",
     "output_type": "stream",
     "text": [
      "Cuda available?  True\n",
      "Cuda version: 10.2\n"
     ]
    }
   ],
   "source": [
    "# Import libraries\n",
    "import torch\n",
    "from torch.utils.data import TensorDataset, DataLoader\n",
    "from torch import nn, optim\n",
    "import numpy as np\n",
    "import os\n",
    "import matplotlib.pyplot as plt\n",
    "\n",
    "# Import local\n",
    "from model import CVAE\n",
    "\n",
    "# Use Cuda if possible\n",
    "print(\"Cuda available?  {}\".format(torch.cuda.is_available()))\n",
    "print(\"Cuda version: {}\".format(torch.version.cuda))\n",
    "try:\n",
    "    device = torch.device(\"cuda\")\n",
    "    torch.ones(5).to(\"cuda\")\n",
    "except:\n",
    "    print(\"Cuda failed to work! Using CPU...\")\n",
    "    device = torch.device(\"cpu\")"
   ]
  },
  {
   "cell_type": "code",
   "execution_count": 2,
   "id": "1089e313",
   "metadata": {},
   "outputs": [],
   "source": [
    "# Options\n",
    "TRAIN_MODEL = True # Train? or just test existing?\n",
    "SAVE_MODEL = True  # Should save the model?\n",
    "MODEL_PATH = \"out/LinearNarrowPassages_example.pt\"\n",
    "printFreq = 100\n",
    "\n",
    "# Hyperparams: training\n",
    "trainProp = 0.8\n",
    "batchSize = 256\n",
    "epochs = 10000\n",
    "learnRate = 1e-4 \n",
    "\n",
    "# Hyperparams: network\n",
    "hiddenEncoderSize = 512\n",
    "hiddenDecoderSize = 512\n",
    "latentSize = 3"
   ]
  },
  {
   "cell_type": "code",
   "execution_count": 3,
   "id": "7095efee",
   "metadata": {},
   "outputs": [
    {
     "name": "stdout",
     "output_type": "stream",
     "text": [
      "Loaded data:\n",
      "  File: LinearNarrowPassages_Data.npz\n",
      "  Samples (x) shape: (83731, 6)\n",
      "  Conditions (c) shape: (83731, 133)\n",
      "  Training: 66984,   testing: 16747\n"
     ]
    }
   ],
   "source": [
    "#Load data\n",
    "dataFile = \"LinearNarrowPassages_Data.npz\"\n",
    "data = np.load(dataFile)\n",
    "xData = data[\"x\"]\n",
    "cData = data[\"c\"]\n",
    "nEntries = xData.shape[0]\n",
    "\n",
    "# Split into train, test\n",
    "nTrain = int(nEntries * trainProp)\n",
    "xTrain = xData[0:nTrain, :]\n",
    "cTrain = cData[0:nTrain, :]\n",
    "xTest  = xData[nTrain:, ]\n",
    "cTest  = cData[nTrain:, ] \n",
    "\n",
    "print(\"Loaded data:\")\n",
    "print(\"  File: {}\".format(dataFile))\n",
    "print(\"  Samples (x) shape: {}\".format(xData.shape))\n",
    "print(\"  Conditions (c) shape: {}\".format(cData.shape))\n",
    "print(\"  Training: {},   testing: {}\".format(xTrain.shape[0], xTest.shape[0]))"
   ]
  },
  {
   "cell_type": "code",
   "execution_count": 4,
   "id": "e920cd44",
   "metadata": {},
   "outputs": [],
   "source": [
    "# Create data loaders\n",
    "def makeDataLoader(x, c, batchSize):\n",
    "    xTensor = torch.Tensor(x)\n",
    "    cTensor = torch.Tensor(c)\n",
    "    dataset = TensorDataset(xTensor, cTensor)\n",
    "    dataLoader  = DataLoader(dataset, batch_size=batchSize, shuffle=True)\n",
    "    return xTensor, cTensor, dataset, dataLoader\n",
    "    \n",
    "xTrainTensor, cTrainTensor, trainDataset, trainDataLoader = \\\n",
    "    makeDataLoader(xTrain, cTrain, batchSize)\n",
    "\n",
    "xTestTensor, cTestTensor, testDataset, testDataLoader = \\\n",
    "    makeDataLoader(xTest, cTest, batchSize)\n"
   ]
  },
  {
   "cell_type": "markdown",
   "id": "3e26c05e",
   "metadata": {},
   "source": [
    "## Train"
   ]
  },
  {
   "cell_type": "code",
   "execution_count": 5,
   "id": "4123f465",
   "metadata": {},
   "outputs": [],
   "source": [
    "# Define loss function\n",
    "def loss_fn(reconstructed_x, x, mu, logvar, weight):\n",
    "    # Reconstruction + KL divergence loss \n",
    "    \n",
    "    def weightedMSE(pred, target, weight):\n",
    "        return (weight * (pred - target) ** 2).mean()\n",
    "    def MSE(pred, target):\n",
    "        return torch.sum((pred - target) ** 2)\n",
    "    \n",
    "    # Reconstruction loss\n",
    "    recon_loss = weightedMSE(reconstructed_x, x, weight)\n",
    "    \n",
    "    # KL divergence loss\n",
    "    KL_loss = 10**-4 * 2 * torch.sum(torch.exp(logvar) + mu**2 - 1.0 - logvar, 1)\n",
    "    \n",
    "    return torch.mean(recon_loss + KL_loss)\n",
    "\n",
    "# Define batch training\n",
    "def train(model, optimizer, dataLoader, weight, device=\"cpu\"):\n",
    "    model.train()\n",
    "    train_loss = 0\n",
    "    for batch_idx, (X, C) in enumerate(dataLoader):\n",
    "        X, C = X.to(device), C.to(device)\n",
    "        q_z, logvar, mu, z = model(X, C)\n",
    "        optimizer.zero_grad()\n",
    "        cvae_loss = loss_fn(q_z, X, mu, logvar, weight[0:X.shape[0], :]) \n",
    "        cvae_loss.backward()\n",
    "        train_loss += cvae_loss\n",
    "        optimizer.step()\n",
    "    return train_loss / X.shape[0]\n",
    "    \n",
    "\n",
    "# Define batch testing\n",
    "def test(model, dataLoader, weight, device=\"cpu\"):\n",
    "    weight = weight.to(device)\n",
    "    model.eval()\n",
    "    test_loss = 0\n",
    "    with torch.no_grad():\n",
    "        for batch_idx, (X, C) in enumerate(dataLoader):\n",
    "            X, C = X.to(device), C.to(device)\n",
    "            q_z, logvar, mu, z = model(X, C)\n",
    "            cvae_loss = loss_fn(q_z, X, mu, logvar, weight[0:X.shape[0], :])\n",
    "            test_loss += cvae_loss\n",
    "    return test_loss / X.shape[0]"
   ]
  },
  {
   "cell_type": "code",
   "execution_count": 6,
   "id": "30f489b0",
   "metadata": {},
   "outputs": [],
   "source": [
    "# Init model\n",
    "model = CVAE(\n",
    "    sample_size = xTrain.shape[1],\n",
    "    condition_size = cTrain.shape[1],\n",
    "    hidden_encoder_size = hiddenEncoderSize,\n",
    "    hidden_decoder_size = hiddenDecoderSize,\n",
    "    latent_size = latentSize,\n",
    ").to(device)\n",
    "\n",
    "# Init optimizer\n",
    "optimizer = optim.Adam(model.parameters(), lr=learnRate)\n",
    "\n",
    "# MSE weight\n",
    "weight = np.array([1.0, 1.0, 1.0, 0.5, 0.5, 0.5])\n",
    "weight = torch.Tensor(np.tile(weight, (batchSize, 1)))\n",
    "weight = weight.to(device)"
   ]
  },
  {
   "cell_type": "code",
   "execution_count": 7,
   "id": "83c9d1bb",
   "metadata": {},
   "outputs": [
    {
     "name": "stdout",
     "output_type": "stream",
     "text": [
      "Epoch: 0,  Mean loss: 0.1516\n",
      "Epoch: 100,  Mean loss: 0.0207\n",
      "Epoch: 200,  Mean loss: 0.0177\n",
      "Epoch: 300,  Mean loss: 0.0164\n",
      "Epoch: 400,  Mean loss: 0.0155\n",
      "Epoch: 500,  Mean loss: 0.0149\n",
      "Epoch: 600,  Mean loss: 0.0145\n",
      "Epoch: 700,  Mean loss: 0.0141\n",
      "Epoch: 800,  Mean loss: 0.0138\n",
      "Epoch: 900,  Mean loss: 0.0136\n",
      "Epoch: 1000,  Mean loss: 0.0135\n",
      "Epoch: 1100,  Mean loss: 0.0133\n",
      "Epoch: 1200,  Mean loss: 0.0131\n",
      "Epoch: 1300,  Mean loss: 0.0130\n",
      "Epoch: 1400,  Mean loss: 0.0129\n",
      "Epoch: 1500,  Mean loss: 0.0128\n",
      "Epoch: 1600,  Mean loss: 0.0127\n",
      "Epoch: 1700,  Mean loss: 0.0126\n",
      "Epoch: 1800,  Mean loss: 0.0125\n",
      "Epoch: 1900,  Mean loss: 0.0124\n",
      "Epoch: 2000,  Mean loss: 0.0124\n",
      "Epoch: 2100,  Mean loss: 0.0123\n",
      "Epoch: 2200,  Mean loss: 0.0123\n",
      "Epoch: 2300,  Mean loss: 0.0123\n",
      "Epoch: 2400,  Mean loss: 0.0122\n",
      "Epoch: 2500,  Mean loss: 0.0122\n",
      "Epoch: 2600,  Mean loss: 0.0122\n",
      "Epoch: 2700,  Mean loss: 0.0121\n",
      "Epoch: 2800,  Mean loss: 0.0121\n",
      "Epoch: 2900,  Mean loss: 0.0120\n",
      "Epoch: 3000,  Mean loss: 0.0121\n",
      "Epoch: 3100,  Mean loss: 0.0120\n",
      "Epoch: 3200,  Mean loss: 0.0119\n",
      "Epoch: 3300,  Mean loss: 0.0120\n",
      "Epoch: 3400,  Mean loss: 0.0119\n",
      "Epoch: 3500,  Mean loss: 0.0118\n",
      "Epoch: 3600,  Mean loss: 0.0119\n",
      "Epoch: 3700,  Mean loss: 0.0118\n",
      "Epoch: 3800,  Mean loss: 0.0118\n",
      "Epoch: 3900,  Mean loss: 0.0119\n",
      "Epoch: 4000,  Mean loss: 0.0118\n",
      "Epoch: 4100,  Mean loss: 0.0118\n",
      "Epoch: 4200,  Mean loss: 0.0117\n",
      "Epoch: 4300,  Mean loss: 0.0117\n",
      "Epoch: 4400,  Mean loss: 0.0117\n",
      "Epoch: 4500,  Mean loss: 0.0117\n",
      "Epoch: 4600,  Mean loss: 0.0116\n",
      "Epoch: 4700,  Mean loss: 0.0116\n",
      "Epoch: 4800,  Mean loss: 0.0116\n",
      "Epoch: 4900,  Mean loss: 0.0117\n",
      "Epoch: 5000,  Mean loss: 0.0116\n",
      "Epoch: 5100,  Mean loss: 0.0115\n",
      "Epoch: 5200,  Mean loss: 0.0116\n",
      "Epoch: 5300,  Mean loss: 0.0115\n",
      "Epoch: 5400,  Mean loss: 0.0115\n",
      "Epoch: 5500,  Mean loss: 0.0115\n",
      "Epoch: 5600,  Mean loss: 0.0115\n",
      "Epoch: 5700,  Mean loss: 0.0115\n",
      "Epoch: 5800,  Mean loss: 0.0115\n",
      "Epoch: 5900,  Mean loss: 0.0114\n",
      "Epoch: 6000,  Mean loss: 0.0115\n",
      "Epoch: 6100,  Mean loss: 0.0114\n",
      "Epoch: 6200,  Mean loss: 0.0114\n",
      "Epoch: 6300,  Mean loss: 0.0115\n",
      "Epoch: 6400,  Mean loss: 0.0114\n",
      "Epoch: 6500,  Mean loss: 0.0114\n",
      "Epoch: 6600,  Mean loss: 0.0113\n",
      "Epoch: 6700,  Mean loss: 0.0113\n",
      "Epoch: 6800,  Mean loss: 0.0115\n",
      "Epoch: 6900,  Mean loss: 0.0114\n",
      "Epoch: 7000,  Mean loss: 0.0113\n",
      "Epoch: 7100,  Mean loss: 0.0113\n",
      "Epoch: 7200,  Mean loss: 0.0113\n",
      "Epoch: 7300,  Mean loss: 0.0113\n",
      "Epoch: 7400,  Mean loss: 0.0113\n",
      "Epoch: 7500,  Mean loss: 0.0113\n",
      "Epoch: 7600,  Mean loss: 0.0113\n",
      "Epoch: 7700,  Mean loss: 0.0113\n",
      "Epoch: 7800,  Mean loss: 0.0112\n",
      "Epoch: 7900,  Mean loss: 0.0113\n",
      "Epoch: 8000,  Mean loss: 0.0113\n",
      "Epoch: 8100,  Mean loss: 0.0113\n",
      "Epoch: 8200,  Mean loss: 0.0113\n",
      "Epoch: 8300,  Mean loss: 0.0113\n",
      "Epoch: 8400,  Mean loss: 0.0113\n",
      "Epoch: 8500,  Mean loss: 0.0113\n",
      "Epoch: 8600,  Mean loss: 0.0113\n",
      "Epoch: 8700,  Mean loss: 0.0112\n",
      "Epoch: 8800,  Mean loss: 0.0112\n",
      "Epoch: 8900,  Mean loss: 0.0113\n",
      "Epoch: 9000,  Mean loss: 0.0112\n",
      "Epoch: 9100,  Mean loss: 0.0112\n",
      "Epoch: 9200,  Mean loss: 0.0112\n",
      "Epoch: 9300,  Mean loss: 0.0113\n",
      "Epoch: 9400,  Mean loss: 0.0112\n",
      "Epoch: 9500,  Mean loss: 0.0112\n",
      "Epoch: 9600,  Mean loss: 0.0111\n",
      "Epoch: 9700,  Mean loss: 0.0112\n",
      "Epoch: 9800,  Mean loss: 0.0112\n",
      "Epoch: 9900,  Mean loss: 0.0112\n"
     ]
    }
   ],
   "source": [
    "if TRAIN_MODEL:\n",
    "    # Train\n",
    "    for epoch in range(epochs):\n",
    "        train_loss = train(model, optimizer, trainDataLoader, weight, device=device)\n",
    "        if epoch % printFreq == 0:\n",
    "            print(\"Epoch: {},  Mean loss: {:.4f}\".format(epoch, train_loss))\n",
    "            \n",
    "    if SAVE_MODEL:\n",
    "        torch.save(model, MODEL_PATH)\n",
    "else:\n",
    "    # Load model\n",
    "    model = torch.load(MODEL_PATH)"
   ]
  },
  {
   "cell_type": "markdown",
   "id": "0714fd25",
   "metadata": {},
   "source": [
    "## Test"
   ]
  },
  {
   "cell_type": "code",
   "execution_count": 8,
   "id": "c81c0f27",
   "metadata": {},
   "outputs": [
    {
     "name": "stdout",
     "output_type": "stream",
     "text": [
      "Mean loss: 0.0193\n"
     ]
    }
   ],
   "source": [
    "# Test\n",
    "model.to(device)\n",
    "test_loss = test(model, testDataLoader, weight, device=device)\n",
    "print(\"Mean loss: {:.4f}\".format(test_loss))"
   ]
  },
  {
   "cell_type": "code",
   "execution_count": 9,
   "id": "8ad8fb5e",
   "metadata": {},
   "outputs": [],
   "source": [
    "def printSample(sample, showGrid=False):\n",
    "    print(\"Sample x: {}\".format(sample[\"x\"]))\n",
    "    print(\"    init: {}\".format(sample[\"init\"]))\n",
    "    print(\"    goal: {}\".format(sample[\"goal\"]))\n",
    "    if showGrid:\n",
    "        print(\" Occupancy grid:\")\n",
    "        print(sample[\"grid\"]) \n",
    "\n",
    "def decompose(sample, occdims=(11, 11), verbose=False):\n",
    "    # Assumes that X is [ sample state ]\n",
    "    # Assumes that C is [ initial state | goal state | occupancy grid]\n",
    "    # And that all states have same dimensions\n",
    "    sample_x, C = sample\n",
    "    sample_x, C = np.array(sample_x), np.array(C)\n",
    "    dims = sample_x.shape[0]\n",
    "    sample_init = C[0:dims]\n",
    "    sample_goal = C[dims:dims*2]\n",
    "    occgrid = C[dims*2:]\n",
    "    occgrid = occgrid.reshape(occdims)\n",
    "    return {\n",
    "        \"x\"    : sample_x,\n",
    "        \"init\" : sample_init, \n",
    "        \"goal\" : sample_goal,\n",
    "        \"grid\" : occgrid,\n",
    "    }"
   ]
  },
  {
   "cell_type": "code",
   "execution_count": 11,
   "id": "aef3afb8",
   "metadata": {},
   "outputs": [
    {
     "name": "stdout",
     "output_type": "stream",
     "text": [
      "Sample x: [ 0.941878  0.457245  0.886974  0.171421  0.901119 -0.296588]\n",
      "    init: [0.447794 0.546728 0.760996 0.       0.       0.      ]\n",
      "    goal: [0.972772 0.699822 0.735328 0.       0.       0.      ]\n"
     ]
    },
    {
     "data": {
      "image/png": "[encoded data removed]",
      "text/plain": [
       "<Figure size 432x288 with 1 Axes>"
      ]
     },
     "metadata": {
      "needs_background": "light"
     },
     "output_type": "display_data"
    }
   ],
   "source": [
    "# Get sample condition\n",
    "occdims = (11, 11)\n",
    "\n",
    "sample_idx = 6290\n",
    "sample_X, sample_C = testDataset[sample_idx]\n",
    "sample = decompose(testDataset[sample_idx], occdims=occdims, verbose=True)\n",
    "printSample(sample)\n",
    "\n",
    "# Convert to length-1 batches for model compatability\n",
    "sample_C = torch.unsqueeze(sample_C, 0)\n",
    "\n",
    "# Sample latent space\n",
    "z_dim = model.latent_size\n",
    "z = torch.Tensor(np.random.randn(batchSize, z_dim))\n",
    "sample_C = torch.Tensor(np.tile(sample_C, (batchSize, 1)))\n",
    "model.to(\"cpu\")\n",
    "model.eval()\n",
    "with torch.no_grad():\n",
    "    res = model.decoder(z, sample_C)\n",
    "\n",
    "# Plot\n",
    "# fig, axs = axs.show()\n",
    "# plt.imshow(sample[\"grid\"].T);\n",
    "plt.scatter((sample[\"init\"][0]*occdims[1])-1, (sample[\"init\"][1]*occdims[0])-0, \n",
    "            s=200, color=\"tab:red\", edgecolors=\"black\");\n",
    "plt.scatter((sample[\"goal\"][0]*occdims[1])-1, (sample[\"goal\"][1]*occdims[0])-0, \n",
    "            s=200, color=\"tab:blue\", edgecolors=\"black\");\n",
    "plt.scatter((res[:,0]*occdims[1]), (res[:,1]*occdims[0])-0, color=\"green\", s=70, alpha=0.1);\n",
    "plt.imshow(sample[\"grid\"].T, cmap='gray', origin='lower');\n"
   ]
  }
 ],
 "metadata": {
  "kernelspec": {
   "display_name": "Python 3",
   "language": "python",
   "name": "python3"
  },
  "language_info": {
   "codemirror_mode": {
    "name": "ipython",
    "version": 3
   },
   "file_extension": ".py",
   "mimetype": "text/x-python",
   "name": "python",
   "nbconvert_exporter": "python",
   "pygments_lexer": "ipython3",
   "version": "3.6.9"
  }
 },
 "nbformat": 4,
 "nbformat_minor": 5
}
