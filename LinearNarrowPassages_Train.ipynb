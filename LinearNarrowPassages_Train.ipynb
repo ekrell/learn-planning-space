{
 "cells": [
  {
   "cell_type": "markdown",
   "id": "83f4c8e1",
   "metadata": {},
   "source": [
    "# Learning Narrow Passages\n",
    "### With conditional autoencoder"
   ]
  },
  {
   "cell_type": "markdown",
   "id": "3de34941",
   "metadata": {},
   "source": [
    "## Setup"
   ]
  },
  {
   "cell_type": "code",
   "execution_count": 1,
   "id": "7f524d71",
   "metadata": {},
   "outputs": [
    {
     "name": "stdout",
     "output_type": "stream",
     "text": [
      "Cuda available?  True\n",
      "Cuda version: 10.2\n"
     ]
    }
   ],
   "source": [
    "# Import libraries\n",
    "import torch\n",
    "from torch.utils.data import TensorDataset, DataLoader\n",
    "from torch import nn, optim\n",
    "import numpy as np\n",
    "import os\n",
    "import matplotlib.pyplot as plt\n",
    "\n",
    "# Import local\n",
    "from model import CVAE\n",
    "\n",
    "# Use Cuda if possible\n",
    "print(\"Cuda available?  {}\".format(torch.cuda.is_available()))\n",
    "print(\"Cuda version: {}\".format(torch.version.cuda))\n",
    "try:\n",
    "    device = torch.device(\"cuda\")\n",
    "    torch.ones(5).to(\"cuda\")\n",
    "except:\n",
    "    print(\"Cuda failed to work! Using CPU...\")\n",
    "    device = torch.device(\"cpu\")"
   ]
  },
  {
   "cell_type": "code",
   "execution_count": 2,
   "id": "1089e313",
   "metadata": {},
   "outputs": [],
   "source": [
    "# Options\n",
    "TRAIN_MODEL = True # Train? or just test existing?\n",
    "SAVE_MODEL = True  # Should save the model?\n",
    "MODEL_PATH = \"out/LinearNarrowPassages_example.pt\"\n",
    "printFreq = 100\n",
    "\n",
    "# Hyperparams: training\n",
    "trainProp = 0.8\n",
    "batchSize = 256\n",
    "epochs = 300000\n",
    "learnRate = 1e-4 \n",
    "\n",
    "# Hyperparams: network\n",
    "hiddenEncoderSize = 512\n",
    "hiddenDecoderSize = 512\n",
    "latentSize = 3"
   ]
  },
  {
   "cell_type": "code",
   "execution_count": 3,
   "id": "7095efee",
   "metadata": {},
   "outputs": [
    {
     "name": "stdout",
     "output_type": "stream",
     "text": [
      "Loaded data:\n",
      "  File: LinearNarrowPassages_Data.npz\n",
      "  Samples (x) shape: (83731, 6)\n",
      "  Conditions (c) shape: (83731, 133)\n",
      "  Training: 66984,   testing: 16747\n"
     ]
    }
   ],
   "source": [
    "#Load data\n",
    "dataFile = \"LinearNarrowPassages_Data.npz\"\n",
    "data = np.load(dataFile)\n",
    "xData = data[\"x\"]\n",
    "cData = data[\"c\"]\n",
    "nEntries = xData.shape[0]\n",
    "\n",
    "# Split into train, test\n",
    "nTrain = int(nEntries * trainProp)\n",
    "xTrain = xData[0:nTrain, :]\n",
    "cTrain = cData[0:nTrain, :]\n",
    "xTest  = xData[nTrain:, ]\n",
    "cTest  = cData[nTrain:, ] \n",
    "\n",
    "print(\"Loaded data:\")\n",
    "print(\"  File: {}\".format(dataFile))\n",
    "print(\"  Samples (x) shape: {}\".format(xData.shape))\n",
    "print(\"  Conditions (c) shape: {}\".format(cData.shape))\n",
    "print(\"  Training: {},   testing: {}\".format(xTrain.shape[0], xTest.shape[0]))"
   ]
  },
  {
   "cell_type": "code",
   "execution_count": 4,
   "id": "e920cd44",
   "metadata": {},
   "outputs": [],
   "source": [
    "# Create data loaders\n",
    "def makeDataLoader(x, c, batchSize):\n",
    "    xTensor = torch.Tensor(x)\n",
    "    cTensor = torch.Tensor(c)\n",
    "    dataset = TensorDataset(xTensor, cTensor)\n",
    "    dataLoader  = DataLoader(dataset, batch_size=batchSize, shuffle=True)\n",
    "    return xTensor, cTensor, dataset, dataLoader\n",
    "    \n",
    "xTrainTensor, cTrainTensor, trainDataset, trainDataLoader = \\\n",
    "    makeDataLoader(xTrain, cTrain, batchSize)\n",
    "\n",
    "xTestTensor, cTestTensor, testDataset, testDataLoader = \\\n",
    "    makeDataLoader(xTest, cTest, batchSize)\n"
   ]
  },
  {
   "cell_type": "markdown",
   "id": "3e26c05e",
   "metadata": {},
   "source": [
    "## Train"
   ]
  },
  {
   "cell_type": "code",
   "execution_count": 5,
   "id": "4123f465",
   "metadata": {},
   "outputs": [],
   "source": [
    "# Define loss function\n",
    "def loss_fn(reconstructed_x, x, mu, logvar, weight):\n",
    "    # Reconstruction + KL divergence loss \n",
    "    \n",
    "    def weightedMSE(pred, target, weight):\n",
    "        return (weight * (pred - target) ** 2).mean()\n",
    "    def MSE(pred, target):\n",
    "        return torch.sum((pred - target) ** 2)\n",
    "    \n",
    "    # Reconstruction loss\n",
    "    recon_loss = weightedMSE(reconstructed_x, x, weight)\n",
    "    \n",
    "    # KL divergence loss\n",
    "    KL_loss = 10**-4 * 2 * torch.sum(torch.exp(logvar) + mu**2 - 1.0 - logvar, 1)\n",
    "    \n",
    "    return torch.mean(recon_loss + KL_loss)\n",
    "\n",
    "# Define batch training\n",
    "def train(model, optimizer, dataLoader, weight, device=\"cpu\"):\n",
    "    weight = weight.to(device)\n",
    "    model.train()\n",
    "    train_loss = 0\n",
    "    for batch_idx, (X, C) in enumerate(dataLoader):\n",
    "        X, C = X.to(device), C.to(device)\n",
    "        q_z, logvar, mu, z = model(X, C)\n",
    "        optimizer.zero_grad()\n",
    "        cvae_loss = loss_fn(q_z, X, mu, logvar, weight[0:X.shape[0], :]) \n",
    "        cvae_loss.backward()\n",
    "        train_loss += cvae_loss\n",
    "        optimizer.step()\n",
    "    return train_loss / X.shape[0]\n",
    "    \n",
    "\n",
    "# Define batch testing\n",
    "def test(model, dataLoader, weight, device=\"cpu\"):\n",
    "    weight = weight.to(device)\n",
    "    model.eval()\n",
    "    test_loss = 0\n",
    "    with torch.no_grad():\n",
    "        for batch_idx, (X, C) in enumerate(dataLoader):\n",
    "            X, C = X.to(device), C.to(device)\n",
    "            q_z, logvar, mu, z = model(X, C)\n",
    "            cvae_loss = loss_fn(q_z, X, mu, logvar, weight[0:X.shape[0], :])\n",
    "            test_loss += cvae_loss\n",
    "    return test_loss / X.shape[0]"
   ]
  },
  {
   "cell_type": "code",
   "execution_count": 6,
   "id": "30f489b0",
   "metadata": {},
   "outputs": [],
   "source": [
    "# Init model\n",
    "model = CVAE(\n",
    "    sample_size = xTrain.shape[1],\n",
    "    condition_size = cTrain.shape[1],\n",
    "    hidden_encoder_size = hiddenEncoderSize,\n",
    "    hidden_decoder_size = hiddenDecoderSize,\n",
    "    latent_size = latentSize,\n",
    ").to(device)\n",
    "\n",
    "# Init optimizer\n",
    "optimizer = optim.Adam(model.parameters(), lr=learnRate)\n",
    "\n",
    "# MSE weight\n",
    "weight = np.array([1.0, 1.0, 1.0, 0.5, 0.5, 0.5])\n",
    "weight = torch.Tensor(np.tile(weight, (batchSize, 1)))"
   ]
  },
  {
   "cell_type": "code",
   "execution_count": 7,
   "id": "ae2183e8",
   "metadata": {},
   "outputs": [
    {
     "name": "stdout",
     "output_type": "stream",
     "text": [
      "Epoch: 0,  Mean loss: 0.1466\n",
      "Epoch: 100,  Mean loss: 0.0208\n",
      "Epoch: 200,  Mean loss: 0.0177\n",
      "Epoch: 300,  Mean loss: 0.0162\n",
      "Epoch: 400,  Mean loss: 0.0153\n",
      "Epoch: 500,  Mean loss: 0.0148\n",
      "Epoch: 600,  Mean loss: 0.0143\n",
      "Epoch: 700,  Mean loss: 0.0140\n",
      "Epoch: 800,  Mean loss: 0.0137\n",
      "Epoch: 900,  Mean loss: 0.0135\n",
      "Epoch: 1000,  Mean loss: 0.0133\n",
      "Epoch: 1100,  Mean loss: 0.0131\n",
      "Epoch: 1200,  Mean loss: 0.0130\n",
      "Epoch: 1300,  Mean loss: 0.0129\n",
      "Epoch: 1400,  Mean loss: 0.0128\n",
      "Epoch: 1500,  Mean loss: 0.0127\n",
      "Epoch: 1600,  Mean loss: 0.0126\n",
      "Epoch: 1700,  Mean loss: 0.0125\n",
      "Epoch: 1800,  Mean loss: 0.0125\n",
      "Epoch: 1900,  Mean loss: 0.0124\n",
      "Epoch: 2000,  Mean loss: 0.0124\n",
      "Epoch: 2100,  Mean loss: 0.0123\n",
      "Epoch: 2200,  Mean loss: 0.0123\n",
      "Epoch: 2300,  Mean loss: 0.0122\n",
      "Epoch: 2400,  Mean loss: 0.0121\n",
      "Epoch: 2500,  Mean loss: 0.0121\n",
      "Epoch: 2600,  Mean loss: 0.0121\n",
      "Epoch: 2700,  Mean loss: 0.0121\n",
      "Epoch: 2800,  Mean loss: 0.0121\n",
      "Epoch: 2900,  Mean loss: 0.0121\n",
      "Epoch: 3000,  Mean loss: 0.0120\n",
      "Epoch: 3100,  Mean loss: 0.0119\n",
      "Epoch: 3200,  Mean loss: 0.0119\n",
      "Epoch: 3300,  Mean loss: 0.0119\n",
      "Epoch: 3400,  Mean loss: 0.0119\n",
      "Epoch: 3500,  Mean loss: 0.0118\n",
      "Epoch: 3600,  Mean loss: 0.0118\n",
      "Epoch: 3700,  Mean loss: 0.0118\n",
      "Epoch: 3800,  Mean loss: 0.0117\n",
      "Epoch: 3900,  Mean loss: 0.0117\n",
      "Epoch: 4000,  Mean loss: 0.0118\n",
      "Epoch: 4100,  Mean loss: 0.0117\n",
      "Epoch: 4200,  Mean loss: 0.0116\n",
      "Epoch: 4300,  Mean loss: 0.0117\n",
      "Epoch: 4400,  Mean loss: 0.0117\n",
      "Epoch: 4500,  Mean loss: 0.0117\n",
      "Epoch: 4600,  Mean loss: 0.0117\n",
      "Epoch: 4700,  Mean loss: 0.0116\n",
      "Epoch: 4800,  Mean loss: 0.0116\n",
      "Epoch: 4900,  Mean loss: 0.0116\n",
      "Epoch: 5000,  Mean loss: 0.0116\n",
      "Epoch: 5100,  Mean loss: 0.0116\n",
      "Epoch: 5200,  Mean loss: 0.0116\n",
      "Epoch: 5300,  Mean loss: 0.0116\n",
      "Epoch: 5400,  Mean loss: 0.0116\n",
      "Epoch: 5500,  Mean loss: 0.0115\n",
      "Epoch: 5600,  Mean loss: 0.0116\n",
      "Epoch: 5700,  Mean loss: 0.0116\n",
      "Epoch: 5800,  Mean loss: 0.0116\n",
      "Epoch: 5900,  Mean loss: 0.0115\n",
      "Epoch: 6000,  Mean loss: 0.0116\n",
      "Epoch: 6100,  Mean loss: 0.0116\n",
      "Epoch: 6200,  Mean loss: 0.0115\n",
      "Epoch: 6300,  Mean loss: 0.0116\n",
      "Epoch: 6400,  Mean loss: 0.0118\n",
      "Epoch: 6500,  Mean loss: 0.0118\n",
      "Epoch: 6600,  Mean loss: 0.0121\n",
      "Epoch: 6700,  Mean loss: 0.0119\n",
      "Epoch: 6800,  Mean loss: 0.0115\n",
      "Epoch: 6900,  Mean loss: 0.0119\n",
      "Epoch: 7000,  Mean loss: 0.0118\n",
      "Epoch: 7100,  Mean loss: 0.0116\n",
      "Epoch: 7200,  Mean loss: 0.0115\n",
      "Epoch: 7300,  Mean loss: 0.0114\n",
      "Epoch: 7400,  Mean loss: 0.0115\n",
      "Epoch: 7500,  Mean loss: 0.0114\n",
      "Epoch: 7600,  Mean loss: 0.0114\n",
      "Epoch: 7700,  Mean loss: 0.0114\n",
      "Epoch: 7800,  Mean loss: 0.0114\n",
      "Epoch: 7900,  Mean loss: 0.0113\n",
      "Epoch: 8000,  Mean loss: 0.0113\n",
      "Epoch: 8100,  Mean loss: 0.0113\n",
      "Epoch: 8200,  Mean loss: 0.0112\n",
      "Epoch: 8300,  Mean loss: 0.0112\n",
      "Epoch: 8400,  Mean loss: 0.0113\n",
      "Epoch: 8500,  Mean loss: 0.0112\n",
      "Epoch: 8600,  Mean loss: 0.0112\n",
      "Epoch: 8700,  Mean loss: 0.0113\n",
      "Epoch: 8800,  Mean loss: 0.0115\n",
      "Epoch: 8900,  Mean loss: 0.0112\n",
      "Epoch: 9000,  Mean loss: 0.0112\n",
      "Epoch: 9100,  Mean loss: 0.0112\n"
     ]
    },
    {
     "ename": "KeyboardInterrupt",
     "evalue": "",
     "output_type": "error",
     "traceback": [
      "\u001b[0;31m---------------------------------------------------------------------------\u001b[0m",
      "\u001b[0;31mKeyboardInterrupt\u001b[0m                         Traceback (most recent call last)",
      "\u001b[0;32m<ipython-input-7-20a8bfeb7ccf>\u001b[0m in \u001b[0;36m<module>\u001b[0;34m\u001b[0m\n\u001b[1;32m      2\u001b[0m     \u001b[0;31m# Train\u001b[0m\u001b[0;34m\u001b[0m\u001b[0;34m\u001b[0m\u001b[0;34m\u001b[0m\u001b[0m\n\u001b[1;32m      3\u001b[0m     \u001b[0;32mfor\u001b[0m \u001b[0mepoch\u001b[0m \u001b[0;32min\u001b[0m \u001b[0mrange\u001b[0m\u001b[0;34m(\u001b[0m\u001b[0mepochs\u001b[0m\u001b[0;34m)\u001b[0m\u001b[0;34m:\u001b[0m\u001b[0;34m\u001b[0m\u001b[0;34m\u001b[0m\u001b[0m\n\u001b[0;32m----> 4\u001b[0;31m         \u001b[0mtrain_loss\u001b[0m \u001b[0;34m=\u001b[0m \u001b[0mtrain\u001b[0m\u001b[0;34m(\u001b[0m\u001b[0mmodel\u001b[0m\u001b[0;34m,\u001b[0m \u001b[0moptimizer\u001b[0m\u001b[0;34m,\u001b[0m \u001b[0mtrainDataLoader\u001b[0m\u001b[0;34m,\u001b[0m \u001b[0mweight\u001b[0m\u001b[0;34m,\u001b[0m \u001b[0mdevice\u001b[0m\u001b[0;34m=\u001b[0m\u001b[0mdevice\u001b[0m\u001b[0;34m)\u001b[0m\u001b[0;34m\u001b[0m\u001b[0;34m\u001b[0m\u001b[0m\n\u001b[0m\u001b[1;32m      5\u001b[0m         \u001b[0;32mif\u001b[0m \u001b[0mepoch\u001b[0m \u001b[0;34m%\u001b[0m \u001b[0mprintFreq\u001b[0m \u001b[0;34m==\u001b[0m \u001b[0;36m0\u001b[0m\u001b[0;34m:\u001b[0m\u001b[0;34m\u001b[0m\u001b[0;34m\u001b[0m\u001b[0m\n\u001b[1;32m      6\u001b[0m             \u001b[0mprint\u001b[0m\u001b[0;34m(\u001b[0m\u001b[0;34m\"Epoch: {},  Mean loss: {:.4f}\"\u001b[0m\u001b[0;34m.\u001b[0m\u001b[0mformat\u001b[0m\u001b[0;34m(\u001b[0m\u001b[0mepoch\u001b[0m\u001b[0;34m,\u001b[0m \u001b[0mtrain_loss\u001b[0m\u001b[0;34m)\u001b[0m\u001b[0;34m)\u001b[0m\u001b[0;34m\u001b[0m\u001b[0;34m\u001b[0m\u001b[0m\n",
      "\u001b[0;32m<ipython-input-5-cbb7163d1fc2>\u001b[0m in \u001b[0;36mtrain\u001b[0;34m(model, optimizer, dataLoader, weight, device)\u001b[0m\n\u001b[1;32m     26\u001b[0m         \u001b[0moptimizer\u001b[0m\u001b[0;34m.\u001b[0m\u001b[0mzero_grad\u001b[0m\u001b[0;34m(\u001b[0m\u001b[0;34m)\u001b[0m\u001b[0;34m\u001b[0m\u001b[0;34m\u001b[0m\u001b[0m\n\u001b[1;32m     27\u001b[0m         \u001b[0mcvae_loss\u001b[0m \u001b[0;34m=\u001b[0m \u001b[0mloss_fn\u001b[0m\u001b[0;34m(\u001b[0m\u001b[0mq_z\u001b[0m\u001b[0;34m,\u001b[0m \u001b[0mX\u001b[0m\u001b[0;34m,\u001b[0m \u001b[0mmu\u001b[0m\u001b[0;34m,\u001b[0m \u001b[0mlogvar\u001b[0m\u001b[0;34m,\u001b[0m \u001b[0mweight\u001b[0m\u001b[0;34m[\u001b[0m\u001b[0;36m0\u001b[0m\u001b[0;34m:\u001b[0m\u001b[0mX\u001b[0m\u001b[0;34m.\u001b[0m\u001b[0mshape\u001b[0m\u001b[0;34m[\u001b[0m\u001b[0;36m0\u001b[0m\u001b[0;34m]\u001b[0m\u001b[0;34m,\u001b[0m \u001b[0;34m:\u001b[0m\u001b[0;34m]\u001b[0m\u001b[0;34m)\u001b[0m\u001b[0;34m\u001b[0m\u001b[0;34m\u001b[0m\u001b[0m\n\u001b[0;32m---> 28\u001b[0;31m         \u001b[0mcvae_loss\u001b[0m\u001b[0;34m.\u001b[0m\u001b[0mbackward\u001b[0m\u001b[0;34m(\u001b[0m\u001b[0;34m)\u001b[0m\u001b[0;34m\u001b[0m\u001b[0;34m\u001b[0m\u001b[0m\n\u001b[0m\u001b[1;32m     29\u001b[0m         \u001b[0mtrain_loss\u001b[0m \u001b[0;34m+=\u001b[0m \u001b[0mcvae_loss\u001b[0m\u001b[0;34m\u001b[0m\u001b[0;34m\u001b[0m\u001b[0m\n\u001b[1;32m     30\u001b[0m         \u001b[0moptimizer\u001b[0m\u001b[0;34m.\u001b[0m\u001b[0mstep\u001b[0m\u001b[0;34m(\u001b[0m\u001b[0;34m)\u001b[0m\u001b[0;34m\u001b[0m\u001b[0;34m\u001b[0m\u001b[0m\n",
      "\u001b[0;32m~/learn-planning-space/venv/lib/python3.6/site-packages/torch/tensor.py\u001b[0m in \u001b[0;36mbackward\u001b[0;34m(self, gradient, retain_graph, create_graph, inputs)\u001b[0m\n\u001b[1;32m    243\u001b[0m                 \u001b[0mcreate_graph\u001b[0m\u001b[0;34m=\u001b[0m\u001b[0mcreate_graph\u001b[0m\u001b[0;34m,\u001b[0m\u001b[0;34m\u001b[0m\u001b[0;34m\u001b[0m\u001b[0m\n\u001b[1;32m    244\u001b[0m                 inputs=inputs)\n\u001b[0;32m--> 245\u001b[0;31m         \u001b[0mtorch\u001b[0m\u001b[0;34m.\u001b[0m\u001b[0mautograd\u001b[0m\u001b[0;34m.\u001b[0m\u001b[0mbackward\u001b[0m\u001b[0;34m(\u001b[0m\u001b[0mself\u001b[0m\u001b[0;34m,\u001b[0m \u001b[0mgradient\u001b[0m\u001b[0;34m,\u001b[0m \u001b[0mretain_graph\u001b[0m\u001b[0;34m,\u001b[0m \u001b[0mcreate_graph\u001b[0m\u001b[0;34m,\u001b[0m \u001b[0minputs\u001b[0m\u001b[0;34m=\u001b[0m\u001b[0minputs\u001b[0m\u001b[0;34m)\u001b[0m\u001b[0;34m\u001b[0m\u001b[0;34m\u001b[0m\u001b[0m\n\u001b[0m\u001b[1;32m    246\u001b[0m \u001b[0;34m\u001b[0m\u001b[0m\n\u001b[1;32m    247\u001b[0m     \u001b[0;32mdef\u001b[0m \u001b[0mregister_hook\u001b[0m\u001b[0;34m(\u001b[0m\u001b[0mself\u001b[0m\u001b[0;34m,\u001b[0m \u001b[0mhook\u001b[0m\u001b[0;34m)\u001b[0m\u001b[0;34m:\u001b[0m\u001b[0;34m\u001b[0m\u001b[0;34m\u001b[0m\u001b[0m\n",
      "\u001b[0;32m~/learn-planning-space/venv/lib/python3.6/site-packages/torch/autograd/__init__.py\u001b[0m in \u001b[0;36mbackward\u001b[0;34m(tensors, grad_tensors, retain_graph, create_graph, grad_variables, inputs)\u001b[0m\n\u001b[1;32m    145\u001b[0m     Variable._execution_engine.run_backward(\n\u001b[1;32m    146\u001b[0m         \u001b[0mtensors\u001b[0m\u001b[0;34m,\u001b[0m \u001b[0mgrad_tensors_\u001b[0m\u001b[0;34m,\u001b[0m \u001b[0mretain_graph\u001b[0m\u001b[0;34m,\u001b[0m \u001b[0mcreate_graph\u001b[0m\u001b[0;34m,\u001b[0m \u001b[0minputs\u001b[0m\u001b[0;34m,\u001b[0m\u001b[0;34m\u001b[0m\u001b[0;34m\u001b[0m\u001b[0m\n\u001b[0;32m--> 147\u001b[0;31m         allow_unreachable=True, accumulate_grad=True)  # allow_unreachable flag\n\u001b[0m\u001b[1;32m    148\u001b[0m \u001b[0;34m\u001b[0m\u001b[0m\n\u001b[1;32m    149\u001b[0m \u001b[0;34m\u001b[0m\u001b[0m\n",
      "\u001b[0;31mKeyboardInterrupt\u001b[0m: "
     ]
    }
   ],
   "source": [
    "if TRAIN_MODEL:\n",
    "    # Train\n",
    "    for epoch in range(epochs):\n",
    "        train_loss = train(model, optimizer, trainDataLoader, weight, device=device)\n",
    "        if epoch % printFreq == 0:\n",
    "            print(\"Epoch: {},  Mean loss: {:.4f}\".format(epoch, train_loss))\n",
    "            \n",
    "    if SAVE_MODEL:\n",
    "        torch.save(model, MODEL_PATH)\n",
    "else:\n",
    "    # Load model\n",
    "    model = torch.load(MODEL_PATH)"
   ]
  },
  {
   "cell_type": "markdown",
   "id": "247e2f49",
   "metadata": {},
   "source": [
    "## Test"
   ]
  },
  {
   "cell_type": "code",
   "execution_count": 8,
   "id": "c81c0f27",
   "metadata": {},
   "outputs": [
    {
     "name": "stdout",
     "output_type": "stream",
     "text": [
      "Mean loss: 0.0282\n"
     ]
    }
   ],
   "source": [
    "# Test\n",
    "test_loss = test(model, testDataLoader, weight, device=device)\n",
    "print(\"Mean loss: {:.4f}\".format(test_loss))"
   ]
  },
  {
   "cell_type": "code",
   "execution_count": 9,
   "id": "d2eda2f8",
   "metadata": {},
   "outputs": [],
   "source": [
    "def printSample(sample, showGrid=False):\n",
    "    print(\"Sample x: {}\".format(sample[\"x\"]))\n",
    "    print(\"    init: {}\".format(sample[\"init\"]))\n",
    "    print(\"    goal: {}\".format(sample[\"goal\"]))\n",
    "    if showGrid:\n",
    "        print(\" Occupancy grid:\")\n",
    "        print(sample[\"grid\"]) \n",
    "\n",
    "def decompose(sample, occdims=(11, 11), verbose=False):\n",
    "    # Assumes that X is [ sample state ]\n",
    "    # Assumes that C is [ initial state | goal state | occupancy grid]\n",
    "    # And that all states have same dimensions\n",
    "    sample_x, C = sample\n",
    "    sample_x, C = np.array(sample_x), np.array(C)\n",
    "    dims = sample_x.shape[0]\n",
    "    sample_init = C[0:dims]\n",
    "    sample_goal = C[dims:dims*2]\n",
    "    occgrid = C[dims*2:]\n",
    "    occgrid = occgrid.reshape(occdims)\n",
    "    return {\n",
    "        \"x\"    : sample_x,\n",
    "        \"init\" : sample_init, \n",
    "        \"goal\" : sample_goal,\n",
    "        \"grid\" : occgrid,\n",
    "    }"
   ]
  },
  {
   "cell_type": "code",
   "execution_count": 39,
   "id": "f5867413",
   "metadata": {},
   "outputs": [
    {
     "name": "stdout",
     "output_type": "stream",
     "text": [
      "Sample x: [ 0.459499  0.818737  0.486967  0.677483  0.689061 -0.737279]\n",
      "    init: [0.370482 0.165948 0.556665 0.       0.       0.      ]\n",
      "    goal: [0.893273 0.460649 0.268381 0.       0.       0.      ]\n"
     ]
    },
    {
     "data": {
      "text/plain": [
       "<matplotlib.image.AxesImage at 0x7f97a6c0b438>"
      ]
     },
     "execution_count": 39,
     "metadata": {},
     "output_type": "execute_result"
    },
    {
     "data": {
      "image/png": "[encoded data removed]",
      "text/plain": [
       "<Figure size 432x288 with 1 Axes>"
      ]
     },
     "metadata": {
      "needs_background": "light"
     },
     "output_type": "display_data"
    }
   ],
   "source": [
    "# Get sample condition\n",
    "occdims = (11, 11)\n",
    "\n",
    "sample_idx = 2290\n",
    "sample_X, sample_C = testDataset[sample_idx]\n",
    "sample = decompose(testDataset[sample_idx], occdims=occdims, verbose=True)\n",
    "printSample(sample)\n",
    "\n",
    "# Convert to length-1 batches for model compatability\n",
    "sample_C = torch.unsqueeze(sample_C, 0)\n",
    "\n",
    "# Sample latent space\n",
    "z_dim = model.latent_size\n",
    "z = torch.Tensor(np.random.randn(batchSize, z_dim))\n",
    "sample_C = torch.Tensor(np.tile(sample_C, (batchSize, 1)))\n",
    "model.to(\"cpu\")\n",
    "model.eval()\n",
    "with torch.no_grad():\n",
    "    res = model.decoder(z, sample_C)\n",
    "\n",
    "# Plot\n",
    "# fig, axs = axs.show()\n",
    "# plt.imshow(sample[\"grid\"].T);\n",
    "plt.scatter((sample[\"init\"][0]*occdims[1])-1, (sample[\"init\"][1]*occdims[0])-0, \n",
    "            s=200, color=\"tab:red\", edgecolors=\"black\")\n",
    "plt.scatter((sample[\"goal\"][0]*occdims[1])-1, (sample[\"goal\"][1]*occdims[0])-0, \n",
    "            s=200, color=\"tab:blue\", edgecolors=\"black\")\n",
    "plt.scatter((res[:,0]*occdims[1])-1, (res[:,1]*occdims[0])-0, color=\"green\", s=70, alpha=0.1)\n",
    "plt.imshow(sample[\"grid\"].T, cmap='gray', origin='lower')\n"
   ]
  }
 ],
 "metadata": {
  "kernelspec": {
   "display_name": "Python 3",
   "language": "python",
   "name": "python3"
  },
  "language_info": {
   "codemirror_mode": {
    "name": "ipython",
    "version": 3
   },
   "file_extension": ".py",
   "mimetype": "text/x-python",
   "name": "python",
   "nbconvert_exporter": "python",
   "pygments_lexer": "ipython3",
   "version": "3.6.9"
  }
 },
 "nbformat": 4,
 "nbformat_minor": 5
}
