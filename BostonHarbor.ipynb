{
 "cells": [
  {
   "cell_type": "code",
   "execution_count": 1,
   "id": "2d3e7a45",
   "metadata": {},
   "outputs": [
    {
     "name": "stdout",
     "output_type": "stream",
     "text": [
      "Cuda available?  True\n",
      "Cuda version: 10.2\n"
     ]
    }
   ],
   "source": [
    "# Import libraries\n",
    "import torch\n",
    "from torch.utils.data import TensorDataset, DataLoader\n",
    "from torch import nn, optim\n",
    "import numpy as np\n",
    "import os\n",
    "import matplotlib.pyplot as plt\n",
    "\n",
    "# Import local\n",
    "from BostonHarbor_Model import CVAE\n",
    "\n",
    "# Use Cuda if possible\n",
    "print(\"Cuda available?  {}\".format(torch.cuda.is_available()))\n",
    "print(\"Cuda version: {}\".format(torch.version.cuda))\n",
    "try:\n",
    "    device = torch.device(\"cuda\")\n",
    "    torch.ones(5).to(\"cuda\")\n",
    "except:\n",
    "    print(\"Cuda failed to work! Using CPU...\")\n",
    "    device = torch.device(\"cpu\")"
   ]
  },
  {
   "cell_type": "code",
   "execution_count": 2,
   "id": "513dd4b9",
   "metadata": {},
   "outputs": [],
   "source": [
    "# Options\n",
    "TRAIN_MODEL = True # Train? or just test existing?\n",
    "SAVE_MODEL = False  # Should save the model?\n",
    "MODEL_PATH = \"BostonHarbor_example.pt\"\n",
    "printFreq = 25\n",
    "maxSamples = 300000  # Because all samples may crash\n",
    "\n",
    "# Hyperparams: training\n",
    "trainProp = 0.8\n",
    "batchSize = 256\n",
    "epochs = 1000\n",
    "learnRate = 1e-4\n",
    "\n",
    "# Hyperparams: network\n",
    "hiddenEncoderSize = 512    # 512 gave good loss, poor latent\n",
    "hiddenDecoderSize = 512   # 512\n",
    "latentSize = 3\n",
    "\n",
    "# Raster\n",
    "rasterFile = \"BostonHarborData/data/full_shrink.asc\"\n",
    "occGrid = np.loadtxt(rasterFile, skiprows=6) # First 6 are metadata\n",
    "occShape = occGrid.shape"
   ]
  },
  {
   "cell_type": "code",
   "execution_count": 3,
   "id": "d120e538",
   "metadata": {},
   "outputs": [
    {
     "name": "stdout",
     "output_type": "stream",
     "text": [
      "Loaded data:\n",
      "  File: BostonHarbor_Data.npz\n",
      "  Samples (x) shape: (300000, 2)\n",
      "  Conditions (c) shape: (300000, 4)\n",
      "  Training: 240000,   testing: 60000\n"
     ]
    }
   ],
   "source": [
    "#Load data\n",
    "dataFile = \"BostonHarbor_Data.npz\"\n",
    "data = np.load(dataFile)\n",
    "data = data[\"data\"][:maxSamples,:].astype(\"float16\")\n",
    "\n",
    "# X : start (row, col)\n",
    "xData = data[:,0:2]\n",
    "\n",
    "# C: init (row, col), goal (row, col)\n",
    "cData = data[:,2:6]\n",
    "\n",
    "# Normalize coordinates\n",
    "xData[:, 0] = xData[:, 0] / occShape[0]\n",
    "xData[:, 1] = xData[:, 1] / occShape[1]\n",
    "cData[:, 0] = cData[:, 0] / occShape[0]\n",
    "cData[:, 1] = cData[:, 1] / occShape[1]\n",
    "cData[:, 2] = cData[:, 2] / occShape[0]\n",
    "cData[:, 3] = cData[:, 3] / occShape[1]\n",
    "\n",
    "nEntries = xData.shape[0]\n",
    "\n",
    "# Split into train, test\n",
    "nTrain = int(nEntries * trainProp)\n",
    "xTrain = xData[0:nTrain, :]\n",
    "cTrain = cData[0:nTrain, :]\n",
    "xTest  = xData[nTrain:, ]\n",
    "cTest  = cData[nTrain:, ] \n",
    "\n",
    "print(\"Loaded data:\")\n",
    "print(\"  File: {}\".format(dataFile))\n",
    "print(\"  Samples (x) shape: {}\".format(xData.shape))\n",
    "print(\"  Conditions (c) shape: {}\".format(cData.shape))\n",
    "print(\"  Training: {},   testing: {}\".format(xTrain.shape[0], \n",
    "                                             xTest.shape[0]))"
   ]
  },
  {
   "cell_type": "code",
   "execution_count": 4,
   "id": "f9ec1f79",
   "metadata": {},
   "outputs": [],
   "source": [
    "# Create data loaders\n",
    "def makeDataLoader(x, c, batchSize, shuffle=False):\n",
    "    xTensor = torch.Tensor(x)\n",
    "    cTensor = torch.Tensor(c)\n",
    "    dataset = TensorDataset(xTensor, cTensor)\n",
    "    dataLoader  = DataLoader(dataset, batch_size=batchSize, shuffle=shuffle)\n",
    "    return xTensor, cTensor, dataset, dataLoader\n",
    "    \n",
    "xTrainTensor, cTrainTensor, trainDataset, trainDataLoader = \\\n",
    "    makeDataLoader(xTrain, cTrain, batchSize, shuffle=True)\n",
    "\n",
    "xTestTensor, cTestTensor, testDataset, testDataLoader = \\\n",
    "    makeDataLoader(xTest, cTest, batchSize, shuffle=False)"
   ]
  },
  {
   "cell_type": "markdown",
   "id": "c2a47d2c",
   "metadata": {},
   "source": [
    "## Train"
   ]
  },
  {
   "cell_type": "code",
   "execution_count": 5,
   "id": "3342929f",
   "metadata": {},
   "outputs": [],
   "source": [
    "# Define loss function\n",
    "def loss_fn(reconstructed_x, x, mu, logvar):\n",
    "    # Reconstruction + KL divergence loss \n",
    "\n",
    "    def MSE(pred, target):\n",
    "        \n",
    "        #return torch.sum((pred - target) ** 2)\n",
    "        return torch.mean((pred - target) ** 2)\n",
    "    \n",
    "    # Reconstruction loss\n",
    "#     recon_loss = weightedMSE(reconstructed_x, x, weight)\n",
    "    recon_loss = MSE(reconstructed_x, x)\n",
    "    \n",
    "    # KL divergence loss\n",
    "    KL_loss = 10**-4 * 2 * torch.sum(torch.exp(logvar) + mu**2 - 1.0 - logvar, 1)\n",
    "    \n",
    "    return torch.mean(recon_loss + KL_loss)\n",
    "\n",
    "\n",
    "# Define batch training\n",
    "def train(model, optimizer, dataLoader, device=\"cpu\"):\n",
    "    model.to(device)\n",
    "    model.train()\n",
    "    train_loss = 0\n",
    "    for batch_idx, (X, C) in enumerate(dataLoader):\n",
    "        X, C = X.to(device), C.to(device)\n",
    "        q_z, logvar, mu, z = model(X, C)\n",
    "        optimizer.zero_grad()\n",
    "        cvae_loss = loss_fn(q_z, X, mu, logvar) \n",
    "        cvae_loss.backward()\n",
    "        optimizer.step()\n",
    "        train_loss += cvae_loss\n",
    "    return train_loss / batchSize\n",
    "    \n",
    "\n",
    "# Define batch testing\n",
    "def test(model, dataLoader, device=\"cpu\"):\n",
    "    model.to(device)\n",
    "    model.eval()\n",
    "    test_loss = 0\n",
    "    with torch.no_grad():\n",
    "        for batch_idx, (X, C) in enumerate(dataLoader):\n",
    "            X, C = X.to(device), C.to(device)\n",
    "            q_z, logvar, mu, z = model(X, C)\n",
    "            cvae_loss = loss_fn(q_z, X, mu, logvar)\n",
    "            test_loss += cvae_loss\n",
    "    return test_loss / batchSize"
   ]
  },
  {
   "cell_type": "code",
   "execution_count": 6,
   "id": "90bd00fc",
   "metadata": {},
   "outputs": [],
   "source": [
    "# Init model\n",
    "model = CVAE(\n",
    "    sample_size = xTrain.shape[1],\n",
    "    condition_size = cTrain.shape[1],\n",
    "    hidden_encoder_size = hiddenEncoderSize,\n",
    "    hidden_decoder_size = hiddenDecoderSize,\n",
    "    latent_size = latentSize,\n",
    ").to(device)\n",
    "\n",
    "# Init optimizer\n",
    "optimizer = optim.Adam(model.parameters(), lr=learnRate)"
   ]
  },
  {
   "cell_type": "code",
   "execution_count": 7,
   "id": "845989a7",
   "metadata": {},
   "outputs": [],
   "source": [
    "def printModelOut(model, dataLoader, nPrint=10, device=\"cpu\"):\n",
    "    X, C = next(iter(trainDataLoader))\n",
    "    X, C = X.to(device), C.to(device)\n",
    "    q_z, logvar, mu, z = model(X, C)\n",
    "    for i in range(nPrint):\n",
    "        print(\"({:.6f}, {:.6f})  -->  ({:.6f}, {:.6f})\".format(\n",
    "            X[i,0], X[i,1], q_z[i,0], q_z[i,1]))"
   ]
  },
  {
   "cell_type": "code",
   "execution_count": 14,
   "id": "721fcc4e",
   "metadata": {
    "scrolled": true
   },
   "outputs": [
    {
     "name": "stdout",
     "output_type": "stream",
     "text": [
      "Epoch: 0,  Train loss: 0.006898,   Test lost: 0.001720\n",
      "(0.500000, 0.629883)  -->  (0.516296, 0.647815)\n",
      "(0.655762, 0.290039)  -->  (0.656090, 0.317452)\n",
      "(0.611328, 0.740234)  -->  (0.639127, 0.706787)\n",
      "(0.789062, 0.529785)  -->  (0.748799, 0.490780)\n",
      "(0.511230, 0.419922)  -->  (0.542522, 0.439622)\n",
      "(0.288818, 0.429932)  -->  (0.270502, 0.443062)\n",
      "(0.511230, 0.409912)  -->  (0.481195, 0.398728)\n",
      "(0.833496, 0.540039)  -->  (0.815260, 0.538904)\n",
      "(0.622070, 0.660156)  -->  (0.556889, 0.633816)\n",
      "(0.555664, 0.740234)  -->  (0.535044, 0.702919)\n",
      "\n",
      "Epoch: 25,  Train loss: 0.005958,   Test lost: 0.002898\n",
      "(0.466553, 0.750000)  -->  (0.422324, 0.703271)\n",
      "(0.122192, 0.119995)  -->  (0.155950, 0.146793)\n",
      "(0.433350, 0.330078)  -->  (0.411784, 0.309342)\n",
      "(0.244385, 0.459961)  -->  (0.280407, 0.443015)\n",
      "(0.322266, 0.379883)  -->  (0.318636, 0.421817)\n",
      "(0.555664, 0.350098)  -->  (0.511331, 0.340041)\n",
      "(0.710938, 0.449951)  -->  (0.637278, 0.461637)\n",
      "(0.455566, 0.709961)  -->  (0.405378, 0.668169)\n",
      "(0.244385, 0.310059)  -->  (0.291155, 0.331554)\n",
      "(0.577637, 0.469971)  -->  (0.512778, 0.453895)\n",
      "\n",
      "Epoch: 50,  Train loss: 0.005618,   Test lost: 0.004165\n",
      "(0.533203, 0.350098)  -->  (0.463141, 0.319424)\n",
      "(0.566895, 0.209961)  -->  (0.529219, 0.216494)\n",
      "(0.488770, 0.280029)  -->  (0.435666, 0.295065)\n",
      "(0.288818, 0.520020)  -->  (0.275274, 0.506413)\n",
      "(0.433350, 0.509766)  -->  (0.424419, 0.468813)\n",
      "(0.611328, 0.540039)  -->  (0.551835, 0.487079)\n",
      "(0.388916, 0.409912)  -->  (0.375453, 0.431985)\n",
      "(0.633301, 0.320068)  -->  (0.534607, 0.328142)\n",
      "(0.366699, 0.379883)  -->  (0.329993, 0.365768)\n",
      "(0.622070, 0.479980)  -->  (0.511490, 0.502118)\n",
      "\n",
      "Epoch: 75,  Train loss: 0.005425,   Test lost: 0.004924\n",
      "(0.544434, 0.529785)  -->  (0.476166, 0.474540)\n",
      "(0.288818, 0.459961)  -->  (0.294223, 0.401265)\n",
      "(0.377686, 0.340088)  -->  (0.359873, 0.322280)\n",
      "(0.422119, 0.340088)  -->  (0.362294, 0.304879)\n",
      "(0.544434, 0.520020)  -->  (0.466052, 0.511937)\n",
      "(0.500000, 0.419922)  -->  (0.425439, 0.396986)\n",
      "(0.710938, 0.640137)  -->  (0.596629, 0.564310)\n",
      "(0.388916, 0.680176)  -->  (0.301712, 0.652837)\n",
      "(0.433350, 0.239990)  -->  (0.383462, 0.252564)\n",
      "(0.789062, 0.270020)  -->  (0.675243, 0.233308)\n",
      "\n",
      "Epoch: 100,  Train loss: 0.005299,   Test lost: 0.005232\n",
      "(0.633301, 0.389893)  -->  (0.561311, 0.399235)\n",
      "(0.266602, 0.469971)  -->  (0.278880, 0.442362)\n",
      "(0.288818, 0.600098)  -->  (0.305296, 0.589911)\n",
      "(0.266602, 0.479980)  -->  (0.276633, 0.497846)\n",
      "(0.277832, 0.250000)  -->  (0.283965, 0.264491)\n",
      "(0.544434, 0.300049)  -->  (0.473413, 0.269117)\n",
      "(0.577637, 0.250000)  -->  (0.507029, 0.224898)\n",
      "(0.444336, 0.330078)  -->  (0.380416, 0.282491)\n",
      "(0.666504, 0.589844)  -->  (0.547926, 0.529359)\n",
      "(0.577637, 0.389893)  -->  (0.491536, 0.383770)\n",
      "\n"
     ]
    },
    {
     "ename": "KeyboardInterrupt",
     "evalue": "",
     "output_type": "error",
     "traceback": [
      "\u001b[0;31m---------------------------------------------------------------------------\u001b[0m",
      "\u001b[0;31mKeyboardInterrupt\u001b[0m                         Traceback (most recent call last)",
      "\u001b[0;32m<ipython-input-14-ddd977104953>\u001b[0m in \u001b[0;36m<module>\u001b[0;34m\u001b[0m\n\u001b[1;32m      2\u001b[0m     \u001b[0;31m# Train\u001b[0m\u001b[0;34m\u001b[0m\u001b[0;34m\u001b[0m\u001b[0;34m\u001b[0m\u001b[0m\n\u001b[1;32m      3\u001b[0m     \u001b[0;32mfor\u001b[0m \u001b[0mepoch\u001b[0m \u001b[0;32min\u001b[0m \u001b[0mrange\u001b[0m\u001b[0;34m(\u001b[0m\u001b[0mepochs\u001b[0m\u001b[0;34m)\u001b[0m\u001b[0;34m:\u001b[0m\u001b[0;34m\u001b[0m\u001b[0;34m\u001b[0m\u001b[0m\n\u001b[0;32m----> 4\u001b[0;31m         \u001b[0mtrain_loss\u001b[0m \u001b[0;34m=\u001b[0m \u001b[0mtrain\u001b[0m\u001b[0;34m(\u001b[0m\u001b[0mmodel\u001b[0m\u001b[0;34m,\u001b[0m \u001b[0moptimizer\u001b[0m\u001b[0;34m,\u001b[0m \u001b[0mtrainDataLoader\u001b[0m\u001b[0;34m,\u001b[0m \u001b[0mdevice\u001b[0m\u001b[0;34m=\u001b[0m\u001b[0mdevice\u001b[0m\u001b[0;34m)\u001b[0m\u001b[0;34m\u001b[0m\u001b[0;34m\u001b[0m\u001b[0m\n\u001b[0m\u001b[1;32m      5\u001b[0m         \u001b[0;32mif\u001b[0m \u001b[0mepoch\u001b[0m \u001b[0;34m%\u001b[0m \u001b[0mprintFreq\u001b[0m \u001b[0;34m==\u001b[0m \u001b[0;36m0\u001b[0m\u001b[0;34m:\u001b[0m\u001b[0;34m\u001b[0m\u001b[0;34m\u001b[0m\u001b[0m\n\u001b[1;32m      6\u001b[0m             \u001b[0mtest_loss\u001b[0m \u001b[0;34m=\u001b[0m \u001b[0mtest\u001b[0m\u001b[0;34m(\u001b[0m\u001b[0mmodel\u001b[0m\u001b[0;34m,\u001b[0m \u001b[0mtestDataLoader\u001b[0m\u001b[0;34m,\u001b[0m \u001b[0mdevice\u001b[0m\u001b[0;34m=\u001b[0m\u001b[0mdevice\u001b[0m\u001b[0;34m)\u001b[0m\u001b[0;34m\u001b[0m\u001b[0;34m\u001b[0m\u001b[0m\n",
      "\u001b[0;32m<ipython-input-5-54d8332b742b>\u001b[0m in \u001b[0;36mtrain\u001b[0;34m(model, optimizer, dataLoader, device)\u001b[0m\n\u001b[1;32m     28\u001b[0m         \u001b[0moptimizer\u001b[0m\u001b[0;34m.\u001b[0m\u001b[0mzero_grad\u001b[0m\u001b[0;34m(\u001b[0m\u001b[0;34m)\u001b[0m\u001b[0;34m\u001b[0m\u001b[0;34m\u001b[0m\u001b[0m\n\u001b[1;32m     29\u001b[0m         \u001b[0mcvae_loss\u001b[0m \u001b[0;34m=\u001b[0m \u001b[0mloss_fn\u001b[0m\u001b[0;34m(\u001b[0m\u001b[0mq_z\u001b[0m\u001b[0;34m,\u001b[0m \u001b[0mX\u001b[0m\u001b[0;34m,\u001b[0m \u001b[0mmu\u001b[0m\u001b[0;34m,\u001b[0m \u001b[0mlogvar\u001b[0m\u001b[0;34m)\u001b[0m\u001b[0;34m\u001b[0m\u001b[0;34m\u001b[0m\u001b[0m\n\u001b[0;32m---> 30\u001b[0;31m         \u001b[0mcvae_loss\u001b[0m\u001b[0;34m.\u001b[0m\u001b[0mbackward\u001b[0m\u001b[0;34m(\u001b[0m\u001b[0;34m)\u001b[0m\u001b[0;34m\u001b[0m\u001b[0;34m\u001b[0m\u001b[0m\n\u001b[0m\u001b[1;32m     31\u001b[0m         \u001b[0moptimizer\u001b[0m\u001b[0;34m.\u001b[0m\u001b[0mstep\u001b[0m\u001b[0;34m(\u001b[0m\u001b[0;34m)\u001b[0m\u001b[0;34m\u001b[0m\u001b[0;34m\u001b[0m\u001b[0m\n\u001b[1;32m     32\u001b[0m         \u001b[0mtrain_loss\u001b[0m \u001b[0;34m+=\u001b[0m \u001b[0mcvae_loss\u001b[0m\u001b[0;34m\u001b[0m\u001b[0;34m\u001b[0m\u001b[0m\n",
      "\u001b[0;32m~/learn-planning-space/venv/lib/python3.6/site-packages/torch/tensor.py\u001b[0m in \u001b[0;36mbackward\u001b[0;34m(self, gradient, retain_graph, create_graph, inputs)\u001b[0m\n\u001b[1;32m    243\u001b[0m                 \u001b[0mcreate_graph\u001b[0m\u001b[0;34m=\u001b[0m\u001b[0mcreate_graph\u001b[0m\u001b[0;34m,\u001b[0m\u001b[0;34m\u001b[0m\u001b[0;34m\u001b[0m\u001b[0m\n\u001b[1;32m    244\u001b[0m                 inputs=inputs)\n\u001b[0;32m--> 245\u001b[0;31m         \u001b[0mtorch\u001b[0m\u001b[0;34m.\u001b[0m\u001b[0mautograd\u001b[0m\u001b[0;34m.\u001b[0m\u001b[0mbackward\u001b[0m\u001b[0;34m(\u001b[0m\u001b[0mself\u001b[0m\u001b[0;34m,\u001b[0m \u001b[0mgradient\u001b[0m\u001b[0;34m,\u001b[0m \u001b[0mretain_graph\u001b[0m\u001b[0;34m,\u001b[0m \u001b[0mcreate_graph\u001b[0m\u001b[0;34m,\u001b[0m \u001b[0minputs\u001b[0m\u001b[0;34m=\u001b[0m\u001b[0minputs\u001b[0m\u001b[0;34m)\u001b[0m\u001b[0;34m\u001b[0m\u001b[0;34m\u001b[0m\u001b[0m\n\u001b[0m\u001b[1;32m    246\u001b[0m \u001b[0;34m\u001b[0m\u001b[0m\n\u001b[1;32m    247\u001b[0m     \u001b[0;32mdef\u001b[0m \u001b[0mregister_hook\u001b[0m\u001b[0;34m(\u001b[0m\u001b[0mself\u001b[0m\u001b[0;34m,\u001b[0m \u001b[0mhook\u001b[0m\u001b[0;34m)\u001b[0m\u001b[0;34m:\u001b[0m\u001b[0;34m\u001b[0m\u001b[0;34m\u001b[0m\u001b[0m\n",
      "\u001b[0;32m~/learn-planning-space/venv/lib/python3.6/site-packages/torch/autograd/__init__.py\u001b[0m in \u001b[0;36mbackward\u001b[0;34m(tensors, grad_tensors, retain_graph, create_graph, grad_variables, inputs)\u001b[0m\n\u001b[1;32m    145\u001b[0m     Variable._execution_engine.run_backward(\n\u001b[1;32m    146\u001b[0m         \u001b[0mtensors\u001b[0m\u001b[0;34m,\u001b[0m \u001b[0mgrad_tensors_\u001b[0m\u001b[0;34m,\u001b[0m \u001b[0mretain_graph\u001b[0m\u001b[0;34m,\u001b[0m \u001b[0mcreate_graph\u001b[0m\u001b[0;34m,\u001b[0m \u001b[0minputs\u001b[0m\u001b[0;34m,\u001b[0m\u001b[0;34m\u001b[0m\u001b[0;34m\u001b[0m\u001b[0m\n\u001b[0;32m--> 147\u001b[0;31m         allow_unreachable=True, accumulate_grad=True)  # allow_unreachable flag\n\u001b[0m\u001b[1;32m    148\u001b[0m \u001b[0;34m\u001b[0m\u001b[0m\n\u001b[1;32m    149\u001b[0m \u001b[0;34m\u001b[0m\u001b[0m\n",
      "\u001b[0;31mKeyboardInterrupt\u001b[0m: "
     ]
    }
   ],
   "source": [
    "if TRAIN_MODEL:\n",
    "    # Train\n",
    "    for epoch in range(epochs):\n",
    "        train_loss = train(model, optimizer, trainDataLoader, device=device)\n",
    "        if epoch % printFreq == 0:\n",
    "            test_loss = test(model, testDataLoader, device=device)\n",
    "            print(\"Epoch: {},  Train loss: {:.6f},   Test lost: {:.6f}\".format(epoch, train_loss, test_loss))\n",
    "            printModelOut(model, trainDataLoader, device=device)\n",
    "            print(\"\")\n",
    "    if SAVE_MODEL:\n",
    "        torch.save(model, MODEL_PATH)\n",
    "else:\n",
    "    # Load model\n",
    "    model = torch.load(MODEL_PATH)"
   ]
  },
  {
   "cell_type": "markdown",
   "id": "b57b742d",
   "metadata": {},
   "source": [
    "## Test"
   ]
  },
  {
   "cell_type": "code",
   "execution_count": 16,
   "id": "3a3e9f97",
   "metadata": {},
   "outputs": [
    {
     "name": "stdout",
     "output_type": "stream",
     "text": [
      "Mean loss: 0.005544\n"
     ]
    }
   ],
   "source": [
    "# Test\n",
    "model.to(device)\n",
    "test_loss = test(model, testDataLoader, device=device)\n",
    "print(\"Mean loss: {:.6f}\".format(test_loss))"
   ]
  },
  {
   "cell_type": "code",
   "execution_count": 17,
   "id": "5675ec92",
   "metadata": {},
   "outputs": [
    {
     "name": "stdout",
     "output_type": "stream",
     "text": [
      "Train samples:\n",
      "(0.966797, 0.660156)  -->  (0.746499, 0.550635)\n",
      "(0.688965, 0.680176)  -->  (0.540155, 0.594932)\n",
      "(0.655762, 0.360107)  -->  (0.529180, 0.352314)\n",
      "(0.844238, 0.469971)  -->  (0.666509, 0.456874)\n",
      "(0.555664, 0.449951)  -->  (0.470742, 0.406345)\n",
      "(0.811035, 0.370117)  -->  (0.680515, 0.314357)\n",
      "(0.944336, 0.419922)  -->  (0.750450, 0.369278)\n",
      "(0.222168, 0.270020)  -->  (0.226166, 0.308224)\n",
      "(0.833496, 0.729980)  -->  (0.669693, 0.647261)\n",
      "(0.566895, 0.229980)  -->  (0.502086, 0.222871)\n",
      "\n",
      "\n",
      "Test samples:\n",
      "(0.622070, 0.409912)  -->  (0.521114, 0.358585)\n",
      "(0.933105, 0.449951)  -->  (0.714552, 0.405436)\n",
      "(0.277832, 0.709961)  -->  (0.301822, 0.671966)\n",
      "(0.555664, 0.500000)  -->  (0.464243, 0.438999)\n",
      "(0.577637, 0.520020)  -->  (0.491778, 0.494770)\n",
      "(0.233276, 0.529785)  -->  (0.254458, 0.523760)\n",
      "(0.666504, 0.310059)  -->  (0.567788, 0.283284)\n",
      "(0.600098, 0.370117)  -->  (0.500669, 0.333119)\n",
      "(0.422119, 0.700195)  -->  (0.366740, 0.661195)\n",
      "(0.522461, 0.409912)  -->  (0.379698, 0.400181)\n"
     ]
    }
   ],
   "source": [
    "model.to(device)\n",
    "print(\"Train samples:\")\n",
    "printModelOut(model, trainDataLoader, device=device)\n",
    "print(\"\\n\")\n",
    "print(\"Test samples:\")\n",
    "printModelOut(model, testDataLoader, device=device)"
   ]
  },
  {
   "cell_type": "code",
   "execution_count": 18,
   "id": "321153ad",
   "metadata": {},
   "outputs": [],
   "source": [
    "def printSample(sample, showGrid=False):\n",
    "    print(\"Sample x: {}\".format(sample[\"x\"]))\n",
    "    print(\"    init: {}\".format(sample[\"init\"]))\n",
    "    print(\"    goal: {}\".format(sample[\"goal\"]))\n",
    "    if showGrid:\n",
    "        print(\" Occupancy grid:\")\n",
    "        print(sample[\"grid\"]) \n",
    "\n",
    "def decompose(sample, occdims=(90, 100), verbose=False):\n",
    "    sample_x, C = sample\n",
    "    sample_x, C = np.array(sample_x), np.array(C)\n",
    "    dims = sample_x.shape[0]\n",
    "    sample_init = C[0:dims]\n",
    "    sample_goal = C[dims:dims*2]\n",
    "    occgrid = C[dims*2:]\n",
    "#     occgrid = occgrid.reshape(occdims)\n",
    "    return {\n",
    "        \"x\"    : sample_x,\n",
    "        \"init\" : sample_init, \n",
    "        \"goal\" : sample_goal,\n",
    "        \"grid\" : occgrid,\n",
    "    }"
   ]
  },
  {
   "cell_type": "code",
   "execution_count": 19,
   "id": "eafb37d0",
   "metadata": {},
   "outputs": [
    {
     "name": "stdout",
     "output_type": "stream",
     "text": [
      "Sample x: [0.38891602 0.20996094]\n",
      "    init: [0.09997559 0.09997559]\n",
      "    goal: [0.8666992  0.35009766]\n",
      "Sample x: [0.4333496 0.3400879]\n",
      "    init: [0.94433594 0.5600586 ]\n",
      "    goal: [0.14440918 0.16003418]\n",
      "Sample x: [0.30004883 0.26000977]\n",
      "    init: [0.94433594 0.5600586 ]\n",
      "    goal: [0.14440918 0.16003418]\n",
      "Sample x: [0.7890625 0.5800781]\n",
      "    init: [0.30004883 0.79003906]\n",
      "    goal: [1.         0.66015625]\n",
      "Sample x: [0.51123047 0.7001953 ]\n",
      "    init: [0.31103516 0.7001953 ]\n",
      "    goal: [0.7001953 0.7001953]\n",
      "Sample x: [0.24438477 0.20996094]\n",
      "    init: [0.38891602 0.11999512]\n",
      "    goal: [0.14440918 0.2199707 ]\n",
      "Sample x: [0.34448242 0.52001953]\n",
      "    init: [0.09997559 0.6201172 ]\n",
      "    goal: [0.64453125 0.3701172 ]\n",
      "Sample x: [0.81103516 0.6298828 ]\n",
      "    init: [0.9555664  0.60009766]\n",
      "    goal: [0.7890625 0.7402344]\n",
      "Sample x: [0.23327637 0.5800781 ]\n",
      "    init: [0.14440918 0.5800781 ]\n",
      "    goal: [0.6557617 0.7001953]\n"
     ]
    },
    {
     "data": {
      "image/png": "[encoded data removed]",
      "text/plain": [
       "<Figure size 720x720 with 9 Axes>"
      ]
     },
     "metadata": {
      "needs_background": "light"
     },
     "output_type": "display_data"
    }
   ],
   "source": [
    "# Get sample condition\n",
    "dataset = trainDataset\n",
    "\n",
    "sample_idxs = np.array([\n",
    "    [129, 290, 300], \n",
    "    [3290, 9140, 9990], \n",
    "    [11440, 25515, 8888],\n",
    "])\n",
    "\n",
    "fig, axs = plt.subplots(sample_idxs.shape[0], \n",
    "                        sample_idxs.shape[1],\n",
    "                       figsize=(10, 10))\n",
    "\n",
    "for i in range(sample_idxs.shape[0]):\n",
    "    for j in range(sample_idxs.shape[1]):\n",
    "        sample_idx = sample_idxs[i, j]\n",
    "        sample_X, sample_C = dataset[sample_idx]\n",
    "        sample = decompose(dataset[sample_idx], occdims=occShape, verbose=True)\n",
    "        printSample(sample)\n",
    "\n",
    "        # Convert to length-1 batches for model compatability\n",
    "        sample_C = torch.unsqueeze(sample_C, 0)\n",
    "\n",
    "        # Sample latent space\n",
    "        z_dim = model.latent_size\n",
    "        z = torch.Tensor(np.random.randn(batchSize, z_dim))\n",
    "        sample_C = torch.Tensor(np.tile(sample_C, (batchSize, 1)))\n",
    "        \n",
    "        model.to(\"cpu\")\n",
    "        model.eval()\n",
    "        with torch.no_grad():\n",
    "            res = np.array(model.decoder(z, sample_C))\n",
    "           \n",
    "        # Plot\n",
    "        axs[i][j].scatter((res[:,0] * 100), (res[:,1] * 90), color=\"green\", s=100, alpha=0.1);\n",
    "        axs[i][j].scatter((sample[\"init\"][0] * 100), (sample[\"init\"][1] * 90), \n",
    "                    s=200, color=\"tab:red\", edgecolors=\"black\");\n",
    "        axs[i][j].scatter((sample[\"goal\"][0] * 100), (sample[\"goal\"][1] * 90),\n",
    "                    s=200, color=\"tab:blue\", edgecolors=\"black\");\n",
    "        axs[i][j].imshow(occGrid, origin='lower');\n",
    "        axs[i][j].invert_yaxis();\n"
   ]
  }
 ],
 "metadata": {
  "kernelspec": {
   "display_name": "Python 3",
   "language": "python",
   "name": "python3"
  },
  "language_info": {
   "codemirror_mode": {
    "name": "ipython",
    "version": 3
   },
   "file_extension": ".py",
   "mimetype": "text/x-python",
   "name": "python",
   "nbconvert_exporter": "python",
   "pygments_lexer": "ipython3",
   "version": "3.6.9"
  }
 },
 "nbformat": 4,
 "nbformat_minor": 5
}
